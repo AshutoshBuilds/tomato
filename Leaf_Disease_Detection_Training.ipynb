{
 "cells": [
  {
   "cell_type": "code",
   "execution_count": 1,
   "metadata": {},
   "outputs": [],
   "source": [
    "# !pip install opencv-python==3.4.0.14 \n",
    "# !pip install -U numpy\n",
    "# !pip install scikit-learn\n",
    "# !pip install matplotlib\n",
    "\n",
    "import numpy as np\n",
    "import pickle\n",
    "import cv2\n",
    "from os import listdir\n",
    "from sklearn.preprocessing import LabelBinarizer\n",
    "from keras.models import Sequential\n",
    "from tensorflow.keras.layers import BatchNormalization\n",
    "from tensorflow.keras.layers import Conv2D\n",
    "from tensorflow.keras.layers import MaxPooling2D\n",
    "from tensorflow.keras.layers import Activation, Flatten, Dropout, Dense\n",
    "from tensorflow.keras import backend as K\n",
    "from tensorflow.keras.preprocessing.image import ImageDataGenerator\n",
    "from tensorflow.keras.optimizers import Adam\n",
    "from tensorflow.keras.preprocessing import image\n",
    "from tensorflow.keras.preprocessing.image import img_to_array\n",
    "from sklearn.preprocessing import MultiLabelBinarizer\n",
    "from sklearn.model_selection import train_test_split\n",
    "import matplotlib.pyplot as plt"
   ]
  },
  {
   "cell_type": "code",
   "execution_count": 2,
   "metadata": {},
   "outputs": [
    {
     "name": "stdout",
     "output_type": "stream",
     "text": [
      "1.24.1\n"
     ]
    }
   ],
   "source": [
    "# import numpy\n",
    "print(np.__version__)"
   ]
  },
  {
   "cell_type": "code",
   "execution_count": 3,
   "metadata": {},
   "outputs": [],
   "source": [
    "EPOCHS = 50 #25\n",
    "INIT_LR = 1e-3\n",
    "BS = 64 #32\n",
    "default_image_size = tuple((256, 256))\n",
    "image_size = 0\n",
    "directory_root = 'C:/Users/Ashutosh Shukla/Desktop/tomato'\n",
    "width=256\n",
    "height=256\n",
    "depth=3"
   ]
  },
  {
   "cell_type": "code",
   "execution_count": 4,
   "metadata": {},
   "outputs": [],
   "source": [
    "def convert_image_to_array(image_dir):\n",
    "    try:\n",
    "        image = cv2.imread(image_dir)\n",
    "        if image is not None :\n",
    "            image = cv2.resize(image, default_image_size)   \n",
    "            return img_to_array(image)\n",
    "        else :\n",
    "            return np.array([])\n",
    "    except Exception as e:\n",
    "        print(f\"Error : {e}\")\n",
    "        return None"
   ]
  },
  {
   "cell_type": "code",
   "execution_count": 5,
   "metadata": {
    "scrolled": true
   },
   "outputs": [
    {
     "name": "stdout",
     "output_type": "stream",
     "text": [
      "[INFO] Loading images ...\n",
      "[INFO] Processing Pepper__bell___Bacterial_spot ...\n",
      "[INFO] Processing Pepper__bell___healthy ...\n",
      "[INFO] Processing PlantVillage ...\n",
      "[INFO] Processing Potato___Early_blight ...\n",
      "[INFO] Processing Potato___healthy ...\n",
      "[INFO] Processing Potato___Late_blight ...\n",
      "[INFO] Processing Tomato_Bacterial_spot ...\n",
      "[INFO] Processing Tomato_Early_blight ...\n",
      "[INFO] Processing Tomato_healthy ...\n",
      "[INFO] Processing Tomato_Late_blight ...\n",
      "[INFO] Processing Tomato_Leaf_Mold ...\n",
      "[INFO] Processing Tomato_Septoria_leaf_spot ...\n",
      "[INFO] Processing Tomato_Spider_mites_Two_spotted_spider_mite ...\n",
      "[INFO] Processing Tomato__Target_Spot ...\n",
      "[INFO] Processing Tomato__Tomato_mosaic_virus ...\n",
      "[INFO] Processing Tomato__Tomato_YellowLeaf__Curl_Virus ...\n",
      "[INFO] Image loading completed\n"
     ]
    }
   ],
   "source": [
    "image_list, label_list = [], []\n",
    "try:\n",
    "    print(\"[INFO] Loading images ...\")\n",
    "    root_dir = listdir(directory_root)\n",
    "#     print(root_dir) ################\n",
    "    for directory in root_dir :\n",
    "        # remove .DS_Store from list\n",
    "        if directory == \".DS_Store\" :\n",
    "            root_dir.remove(directory)\n",
    "#             print(f'{directory} removed') ############\n",
    "\n",
    "    for plant_folder in root_dir :\n",
    "        if plant_folder == 'PlantVillage':\n",
    "    #         print(plant_folder) ##############\n",
    "            plant_disease_folder_list = listdir(f\"{directory_root}/{plant_folder}\")\n",
    "#             print(plant_disease_folder_list) ################\n",
    "\n",
    "            for disease_folder in plant_disease_folder_list :\n",
    "                # remove .DS_Store from list\n",
    "                if disease_folder == \".DS_Store\" :\n",
    "                    plant_disease_folder_list.remove(disease_folder)\n",
    "    #                 print(f'{disease_folder} removed') ############\n",
    "\n",
    "\n",
    "            for plant_disease_folder in plant_disease_folder_list:\n",
    "#                 print(plant_disease_folder) #############\n",
    "                print(f\"[INFO] Processing {plant_disease_folder} ...\")\n",
    "                plant_disease_image_list = listdir(f\"{directory_root}/{plant_folder}/{plant_disease_folder}\")\n",
    "    #             print(plant_disease_image_list) #############\n",
    "\n",
    "                for single_plant_disease_image in plant_disease_image_list :\n",
    "                    if single_plant_disease_image == \".DS_Store\" :\n",
    "                        plant_disease_image_list.remove(single_plant_disease_image)\n",
    "\n",
    "                for image in plant_disease_image_list[:800]:\n",
    "                    image_directory = f\"{directory_root}/{plant_folder}/{plant_disease_folder}/{image}\"\n",
    "                    if image_directory.endswith(\".jpg\") == True or image_directory.endswith(\".JPG\") == True:\n",
    "                        image_list.append(convert_image_to_array(image_directory))\n",
    "                        label_list.append(plant_disease_folder)\n",
    "    print(\"[INFO] Image loading completed\")  \n",
    "except Exception as e:\n",
    "    print(f\"Error : {e}\")"
   ]
  },
  {
   "cell_type": "code",
   "execution_count": 6,
   "metadata": {},
   "outputs": [],
   "source": [
    "image_size = len(image_list)"
   ]
  },
  {
   "cell_type": "code",
   "execution_count": 7,
   "metadata": {},
   "outputs": [],
   "source": [
    "label_binarizer = LabelBinarizer()\n",
    "image_labels = label_binarizer.fit_transform(label_list)\n",
    "pickle.dump(label_binarizer,open('label_transform.pkl', 'wb'))\n",
    "n_classes = len(label_binarizer.classes_)"
   ]
  },
  {
   "cell_type": "code",
   "execution_count": 8,
   "metadata": {},
   "outputs": [
    {
     "name": "stdout",
     "output_type": "stream",
     "text": [
      "['Pepper__bell___Bacterial_spot' 'Pepper__bell___healthy'\n",
      " 'Potato___Early_blight' 'Potato___Late_blight' 'Potato___healthy'\n",
      " 'Tomato_Bacterial_spot' 'Tomato_Early_blight' 'Tomato_Late_blight'\n",
      " 'Tomato_Leaf_Mold' 'Tomato_Septoria_leaf_spot'\n",
      " 'Tomato_Spider_mites_Two_spotted_spider_mite' 'Tomato__Target_Spot'\n",
      " 'Tomato__Tomato_YellowLeaf__Curl_Virus' 'Tomato__Tomato_mosaic_virus'\n",
      " 'Tomato_healthy']\n"
     ]
    }
   ],
   "source": [
    "print(label_binarizer.classes_)"
   ]
  },
  {
   "cell_type": "code",
   "execution_count": 9,
   "metadata": {},
   "outputs": [],
   "source": [
    "np_image_list = np.array(image_list, dtype=np.float16) / 225.0"
   ]
  },
  {
   "cell_type": "code",
   "execution_count": 10,
   "metadata": {},
   "outputs": [
    {
     "name": "stdout",
     "output_type": "stream",
     "text": [
      "[INFO] Spliting data to train, test\n"
     ]
    }
   ],
   "source": [
    "print(\"[INFO] Spliting data to train, test\")\n",
    "x_train, x_test, y_train, y_test = train_test_split(np_image_list, image_labels, test_size=0.2, random_state = 42) "
   ]
  },
  {
   "cell_type": "code",
   "execution_count": 11,
   "metadata": {},
   "outputs": [],
   "source": [
    "aug = ImageDataGenerator(\n",
    "    rotation_range=25, width_shift_range=0.1,\n",
    "    height_shift_range=0.1, shear_range=0.2, \n",
    "    zoom_range=0.2,horizontal_flip=True, \n",
    "    fill_mode=\"nearest\")"
   ]
  },
  {
   "cell_type": "code",
   "execution_count": 12,
   "metadata": {},
   "outputs": [],
   "source": [
    "model = Sequential()\n",
    "inputShape = (height, width, depth)\n",
    "chanDim = -1\n",
    "if K.image_data_format() == \"channels_first\":\n",
    "    inputShape = (depth, height, width)\n",
    "    chanDim = 1\n",
    "    \n",
    "model.add(Conv2D(32, (3, 3), padding=\"same\",input_shape=inputShape))\n",
    "model.add(Activation(\"relu\"))\n",
    "model.add(BatchNormalization(axis=chanDim))\n",
    "model.add(MaxPooling2D(pool_size=(3, 3)))\n",
    "model.add(Dropout(0.25))\n",
    "\n",
    "model.add(Conv2D(64, (3, 3), padding=\"same\"))\n",
    "model.add(Activation(\"relu\"))\n",
    "model.add(BatchNormalization(axis=chanDim))\n",
    "\n",
    "model.add(Conv2D(64, (3, 3), padding=\"same\"))\n",
    "model.add(Activation(\"relu\"))\n",
    "model.add(BatchNormalization(axis=chanDim))\n",
    "model.add(MaxPooling2D(pool_size=(2, 2)))\n",
    "model.add(Dropout(0.25))\n",
    "\n",
    "model.add(Conv2D(128, (3, 3), padding=\"same\"))\n",
    "model.add(Activation(\"relu\"))\n",
    "model.add(BatchNormalization(axis=chanDim))\n",
    "model.add(Conv2D(128, (3, 3), padding=\"same\"))\n",
    "model.add(Activation(\"relu\"))\n",
    "model.add(BatchNormalization(axis=chanDim))\n",
    "model.add(MaxPooling2D(pool_size=(2, 2)))\n",
    "model.add(Dropout(0.25))\n",
    "\n",
    "model.add(Flatten())\n",
    "model.add(Dense(1024))\n",
    "model.add(Activation(\"relu\"))\n",
    "model.add(BatchNormalization())\n",
    "model.add(Dropout(0.5))\n",
    "\n",
    "model.add(Dense(n_classes))\n",
    "model.add(Activation(\"softmax\"))"
   ]
  },
  {
   "cell_type": "code",
   "execution_count": 13,
   "metadata": {},
   "outputs": [
    {
     "name": "stdout",
     "output_type": "stream",
     "text": [
      "Model: \"sequential\"\n",
      "_________________________________________________________________\n",
      " Layer (type)                Output Shape              Param #   \n",
      "=================================================================\n",
      " conv2d (Conv2D)             (None, 256, 256, 32)      896       \n",
      "                                                                 \n",
      " activation (Activation)     (None, 256, 256, 32)      0         \n",
      "                                                                 \n",
      " batch_normalization (BatchN  (None, 256, 256, 32)     128       \n",
      " ormalization)                                                   \n",
      "                                                                 \n",
      " max_pooling2d (MaxPooling2D  (None, 85, 85, 32)       0         \n",
      " )                                                               \n",
      "                                                                 \n",
      " dropout (Dropout)           (None, 85, 85, 32)        0         \n",
      "                                                                 \n",
      " conv2d_1 (Conv2D)           (None, 85, 85, 64)        18496     \n",
      "                                                                 \n",
      " activation_1 (Activation)   (None, 85, 85, 64)        0         \n",
      "                                                                 \n",
      " batch_normalization_1 (Batc  (None, 85, 85, 64)       256       \n",
      " hNormalization)                                                 \n",
      "                                                                 \n",
      " conv2d_2 (Conv2D)           (None, 85, 85, 64)        36928     \n",
      "                                                                 \n",
      " activation_2 (Activation)   (None, 85, 85, 64)        0         \n",
      "                                                                 \n",
      " batch_normalization_2 (Batc  (None, 85, 85, 64)       256       \n",
      " hNormalization)                                                 \n",
      "                                                                 \n",
      " max_pooling2d_1 (MaxPooling  (None, 42, 42, 64)       0         \n",
      " 2D)                                                             \n",
      "                                                                 \n",
      " dropout_1 (Dropout)         (None, 42, 42, 64)        0         \n",
      "                                                                 \n",
      " conv2d_3 (Conv2D)           (None, 42, 42, 128)       73856     \n",
      "                                                                 \n",
      " activation_3 (Activation)   (None, 42, 42, 128)       0         \n",
      "                                                                 \n",
      " batch_normalization_3 (Batc  (None, 42, 42, 128)      512       \n",
      " hNormalization)                                                 \n",
      "                                                                 \n",
      " conv2d_4 (Conv2D)           (None, 42, 42, 128)       147584    \n",
      "                                                                 \n",
      " activation_4 (Activation)   (None, 42, 42, 128)       0         \n",
      "                                                                 \n",
      " batch_normalization_4 (Batc  (None, 42, 42, 128)      512       \n",
      " hNormalization)                                                 \n",
      "                                                                 \n",
      " max_pooling2d_2 (MaxPooling  (None, 21, 21, 128)      0         \n",
      " 2D)                                                             \n",
      "                                                                 \n",
      " dropout_2 (Dropout)         (None, 21, 21, 128)       0         \n",
      "                                                                 \n",
      " flatten (Flatten)           (None, 56448)             0         \n",
      "                                                                 \n",
      " dense (Dense)               (None, 1024)              57803776  \n",
      "                                                                 \n",
      " activation_5 (Activation)   (None, 1024)              0         \n",
      "                                                                 \n",
      " batch_normalization_5 (Batc  (None, 1024)             4096      \n",
      " hNormalization)                                                 \n",
      "                                                                 \n",
      " dropout_3 (Dropout)         (None, 1024)              0         \n",
      "                                                                 \n",
      " dense_1 (Dense)             (None, 15)                15375     \n",
      "                                                                 \n",
      " activation_6 (Activation)   (None, 15)                0         \n",
      "                                                                 \n",
      "=================================================================\n",
      "Total params: 58,102,671\n",
      "Trainable params: 58,099,791\n",
      "Non-trainable params: 2,880\n",
      "_________________________________________________________________\n"
     ]
    }
   ],
   "source": [
    "model.summary()"
   ]
  },
  {
   "cell_type": "code",
   "execution_count": 14,
   "metadata": {},
   "outputs": [
    {
     "name": "stdout",
     "output_type": "stream",
     "text": [
      "[INFO] training network...\n"
     ]
    }
   ],
   "source": [
    "opt = Adam(learning_rate=INIT_LR, decay=INIT_LR / EPOCHS)\n",
    "# distribution\n",
    "model.compile(loss=\"binary_crossentropy\", optimizer=opt,metrics=[\"accuracy\"])\n",
    "# train the network\n",
    "print(\"[INFO] training network...\")"
   ]
  },
  {
   "cell_type": "code",
   "execution_count": 15,
   "metadata": {
    "scrolled": true
   },
   "outputs": [
    {
     "name": "stdout",
     "output_type": "stream",
     "text": [
      "Epoch 1/50\n",
      "136/136 [==============================] - 57s 359ms/step - loss: 0.3865 - accuracy: 0.4450 - val_loss: 0.5099 - val_accuracy: 0.1227\n",
      "Epoch 2/50\n",
      "136/136 [==============================] - 46s 339ms/step - loss: 0.1081 - accuracy: 0.7305 - val_loss: 1.5359 - val_accuracy: 0.1144\n",
      "Epoch 3/50\n",
      "136/136 [==============================] - 46s 336ms/step - loss: 0.1702 - accuracy: 0.6090 - val_loss: 0.1725 - val_accuracy: 0.5551\n",
      "Epoch 4/50\n",
      "136/136 [==============================] - 46s 337ms/step - loss: 0.0964 - accuracy: 0.7835 - val_loss: 0.1514 - val_accuracy: 0.6059\n",
      "Epoch 5/50\n",
      "136/136 [==============================] - 46s 339ms/step - loss: 0.0747 - accuracy: 0.8373 - val_loss: 0.1999 - val_accuracy: 0.5913\n",
      "Epoch 6/50\n",
      "136/136 [==============================] - 46s 337ms/step - loss: 0.0635 - accuracy: 0.8580 - val_loss: 0.4974 - val_accuracy: 0.5314\n",
      "Epoch 7/50\n",
      "136/136 [==============================] - 46s 337ms/step - loss: 0.0563 - accuracy: 0.8806 - val_loss: 0.4877 - val_accuracy: 0.5140\n",
      "Epoch 8/50\n",
      "136/136 [==============================] - 46s 337ms/step - loss: 0.0581 - accuracy: 0.8699 - val_loss: 1.5648 - val_accuracy: 0.1716\n",
      "Epoch 9/50\n",
      "136/136 [==============================] - 46s 337ms/step - loss: 0.0528 - accuracy: 0.8821 - val_loss: 0.2981 - val_accuracy: 0.5689\n",
      "Epoch 10/50\n",
      "136/136 [==============================] - 46s 337ms/step - loss: 0.0417 - accuracy: 0.9140 - val_loss: 0.2171 - val_accuracy: 0.6101\n",
      "Epoch 11/50\n",
      "136/136 [==============================] - 46s 337ms/step - loss: 0.0383 - accuracy: 0.9194 - val_loss: 0.0865 - val_accuracy: 0.7941\n",
      "Epoch 12/50\n",
      "136/136 [==============================] - 47s 343ms/step - loss: 0.0355 - accuracy: 0.9283 - val_loss: 0.2935 - val_accuracy: 0.6046\n",
      "Epoch 13/50\n",
      "136/136 [==============================] - 46s 339ms/step - loss: 0.0309 - accuracy: 0.9379 - val_loss: 0.0869 - val_accuracy: 0.8000\n",
      "Epoch 14/50\n",
      "136/136 [==============================] - 46s 339ms/step - loss: 0.0279 - accuracy: 0.9435 - val_loss: 0.2697 - val_accuracy: 0.6320\n",
      "Epoch 15/50\n",
      "136/136 [==============================] - 46s 338ms/step - loss: 0.0301 - accuracy: 0.9383 - val_loss: 0.1684 - val_accuracy: 0.7327\n",
      "Epoch 16/50\n",
      "136/136 [==============================] - 47s 342ms/step - loss: 0.0241 - accuracy: 0.9542 - val_loss: 0.0709 - val_accuracy: 0.8458\n",
      "Epoch 17/50\n",
      "136/136 [==============================] - 47s 345ms/step - loss: 0.0233 - accuracy: 0.9537 - val_loss: 0.0471 - val_accuracy: 0.8851\n",
      "Epoch 18/50\n",
      "136/136 [==============================] - 47s 346ms/step - loss: 0.0221 - accuracy: 0.9571 - val_loss: 0.1443 - val_accuracy: 0.7533\n",
      "Epoch 19/50\n",
      "136/136 [==============================] - 47s 346ms/step - loss: 0.0215 - accuracy: 0.9571 - val_loss: 0.2778 - val_accuracy: 0.6654\n",
      "Epoch 20/50\n",
      "136/136 [==============================] - 47s 346ms/step - loss: 0.0257 - accuracy: 0.9474 - val_loss: 0.4797 - val_accuracy: 0.5506\n",
      "Epoch 21/50\n",
      "136/136 [==============================] - 47s 344ms/step - loss: 0.0189 - accuracy: 0.9652 - val_loss: 0.0983 - val_accuracy: 0.7941\n",
      "Epoch 22/50\n",
      "136/136 [==============================] - 47s 344ms/step - loss: 0.0179 - accuracy: 0.9667 - val_loss: 0.1187 - val_accuracy: 0.7968\n",
      "Epoch 23/50\n",
      "136/136 [==============================] - 47s 344ms/step - loss: 0.0189 - accuracy: 0.9622 - val_loss: 0.1591 - val_accuracy: 0.7497\n",
      "Epoch 24/50\n",
      "136/136 [==============================] - 47s 342ms/step - loss: 0.0220 - accuracy: 0.9570 - val_loss: 0.0965 - val_accuracy: 0.8348\n",
      "Epoch 25/50\n",
      "136/136 [==============================] - 47s 344ms/step - loss: 0.0171 - accuracy: 0.9667 - val_loss: 0.1829 - val_accuracy: 0.7378\n",
      "Epoch 26/50\n",
      "136/136 [==============================] - 47s 347ms/step - loss: 0.0156 - accuracy: 0.9691 - val_loss: 0.5230 - val_accuracy: 0.5872\n",
      "Epoch 27/50\n",
      "136/136 [==============================] - 47s 347ms/step - loss: 0.0161 - accuracy: 0.9700 - val_loss: 0.1745 - val_accuracy: 0.6979\n",
      "Epoch 28/50\n",
      "136/136 [==============================] - 47s 346ms/step - loss: 0.0150 - accuracy: 0.9728 - val_loss: 0.2542 - val_accuracy: 0.6110\n",
      "Epoch 29/50\n",
      "136/136 [==============================] - 47s 344ms/step - loss: 0.0143 - accuracy: 0.9734 - val_loss: 0.3530 - val_accuracy: 0.6499\n",
      "Epoch 30/50\n",
      "136/136 [==============================] - 47s 346ms/step - loss: 0.0137 - accuracy: 0.9758 - val_loss: 0.3317 - val_accuracy: 0.5318\n",
      "Epoch 31/50\n",
      "136/136 [==============================] - 47s 343ms/step - loss: 0.0144 - accuracy: 0.9737 - val_loss: 0.8088 - val_accuracy: 0.4993\n",
      "Epoch 32/50\n",
      "136/136 [==============================] - 47s 343ms/step - loss: 0.0148 - accuracy: 0.9721 - val_loss: 0.0657 - val_accuracy: 0.8728\n",
      "Epoch 33/50\n",
      "136/136 [==============================] - 47s 345ms/step - loss: 0.0106 - accuracy: 0.9810 - val_loss: 0.2166 - val_accuracy: 0.7652\n",
      "Epoch 34/50\n",
      "136/136 [==============================] - 47s 347ms/step - loss: 0.0119 - accuracy: 0.9781 - val_loss: 0.1625 - val_accuracy: 0.7785\n",
      "Epoch 35/50\n",
      "136/136 [==============================] - 47s 346ms/step - loss: 0.0112 - accuracy: 0.9796 - val_loss: 0.1769 - val_accuracy: 0.6952\n",
      "Epoch 36/50\n",
      "136/136 [==============================] - 47s 347ms/step - loss: 0.0118 - accuracy: 0.9790 - val_loss: 0.0299 - val_accuracy: 0.9368\n",
      "Epoch 37/50\n",
      "136/136 [==============================] - 47s 345ms/step - loss: 0.0117 - accuracy: 0.9793 - val_loss: 0.6897 - val_accuracy: 0.5620\n",
      "Epoch 38/50\n",
      "136/136 [==============================] - 47s 348ms/step - loss: 0.0114 - accuracy: 0.9801 - val_loss: 0.0406 - val_accuracy: 0.9066\n",
      "Epoch 39/50\n",
      "136/136 [==============================] - 47s 344ms/step - loss: 0.0109 - accuracy: 0.9796 - val_loss: 0.1479 - val_accuracy: 0.7506\n",
      "Epoch 40/50\n",
      "136/136 [==============================] - 47s 343ms/step - loss: 0.0213 - accuracy: 0.9595 - val_loss: 0.7925 - val_accuracy: 0.4700\n",
      "Epoch 41/50\n",
      "136/136 [==============================] - 47s 345ms/step - loss: 0.0136 - accuracy: 0.9743 - val_loss: 0.0737 - val_accuracy: 0.8714\n",
      "Epoch 42/50\n",
      "136/136 [==============================] - 48s 353ms/step - loss: 0.0109 - accuracy: 0.9812 - val_loss: 0.4806 - val_accuracy: 0.6888\n",
      "Epoch 43/50\n",
      "136/136 [==============================] - 48s 352ms/step - loss: 0.0100 - accuracy: 0.9818 - val_loss: 0.0204 - val_accuracy: 0.9556\n",
      "Epoch 44/50\n",
      "136/136 [==============================] - 47s 342ms/step - loss: 0.0100 - accuracy: 0.9827 - val_loss: 0.4774 - val_accuracy: 0.5922\n",
      "Epoch 45/50\n",
      "136/136 [==============================] - 47s 344ms/step - loss: 0.0095 - accuracy: 0.9828 - val_loss: 0.0935 - val_accuracy: 0.8838\n",
      "Epoch 46/50\n",
      "136/136 [==============================] - 49s 361ms/step - loss: 0.0085 - accuracy: 0.9855 - val_loss: 0.3085 - val_accuracy: 0.7355\n",
      "Epoch 47/50\n",
      "136/136 [==============================] - 47s 342ms/step - loss: 0.0082 - accuracy: 0.9847 - val_loss: 0.3678 - val_accuracy: 0.7149\n",
      "Epoch 48/50\n",
      "136/136 [==============================] - 47s 345ms/step - loss: 0.0095 - accuracy: 0.9850 - val_loss: 0.1388 - val_accuracy: 0.8700\n",
      "Epoch 49/50\n",
      "136/136 [==============================] - 47s 343ms/step - loss: 0.0088 - accuracy: 0.9842 - val_loss: 0.3451 - val_accuracy: 0.7062\n",
      "Epoch 50/50\n",
      "136/136 [==============================] - 47s 342ms/step - loss: 0.0086 - accuracy: 0.9856 - val_loss: 0.0400 - val_accuracy: 0.9332\n"
     ]
    }
   ],
   "source": [
    "history = model.fit(\n",
    "    aug.flow(x_train, y_train, batch_size=BS),\n",
    "    validation_data=(x_test, y_test),\n",
    "    steps_per_epoch=len(x_train) // BS,\n",
    "    epochs=EPOCHS, verbose=1\n",
    "    )"
   ]
  },
  {
   "cell_type": "code",
   "execution_count": 16,
   "metadata": {},
   "outputs": [
    {
     "data": {
      "image/png": "[encoded data removed]",
      "text/plain": [
       "<Figure size 640x480 with 1 Axes>"
      ]
     },
     "metadata": {},
     "output_type": "display_data"
    },
    {
     "data": {
      "image/png": "[encoded data removed]",
      "text/plain": [
       "<Figure size 640x480 with 1 Axes>"
      ]
     },
     "metadata": {},
     "output_type": "display_data"
    }
   ],
   "source": [
    "acc = history.history['accuracy']\n",
    "val_acc = history.history['val_accuracy']\n",
    "loss = history.history['loss']\n",
    "val_loss = history.history['val_loss']\n",
    "epochs = range(1, len(acc) + 1)\n",
    "#Train and validation accuracy\n",
    "plt.plot(epochs, acc, 'b', label='Training accurarcy')\n",
    "plt.plot(epochs, val_acc, 'r', label='Validation accurarcy')\n",
    "plt.title('Training and Validation accurarcy')\n",
    "plt.legend()\n",
    "\n",
    "plt.figure()\n",
    "#Train and validation loss\n",
    "plt.plot(epochs, loss, 'b', label='Training loss')\n",
    "plt.plot(epochs, val_loss, 'r', label='Validation loss')\n",
    "plt.title('Training and Validation loss')\n",
    "plt.legend()\n",
    "plt.show()"
   ]
  },
  {
   "cell_type": "code",
   "execution_count": 17,
   "metadata": {},
   "outputs": [
    {
     "name": "stdout",
     "output_type": "stream",
     "text": [
      "[INFO] Calculating model accuracy\n",
      "69/69 [==============================] - 1s 10ms/step - loss: 0.0400 - accuracy: 0.9332\n",
      "Test Accuracy: 93.31807494163513\n"
     ]
    }
   ],
   "source": [
    "print(\"[INFO] Calculating model accuracy\")\n",
    "scores = model.evaluate(x_test, y_test)\n",
    "print(f\"Test Accuracy: {scores[1]*100}\")"
   ]
  },
  {
   "cell_type": "code",
   "execution_count": 18,
   "metadata": {
    "scrolled": true
   },
   "outputs": [
    {
     "name": "stdout",
     "output_type": "stream",
     "text": [
      "[INFO] Saving model...\n"
     ]
    }
   ],
   "source": [
    "print(\"[INFO] Saving model...\")\n",
    "model.save('C:\\\\Users\\\\Ashutosh Shukla\\\\Desktop\\\\tomato\\\\model2.h5')"
   ]
  },
  {
   "cell_type": "code",
   "execution_count": 19,
   "metadata": {},
   "outputs": [],
   "source": [
    "from tensorflow.keras.models import load_model\n",
    "loaded_model = load_model('C:\\\\Users\\\\Ashutosh Shukla\\\\Desktop\\\\tomato\\\\model2.h5')"
   ]
  },
  {
   "cell_type": "code",
   "execution_count": 20,
   "metadata": {},
   "outputs": [],
   "source": [
    "image_dir=\"C:\\\\Users\\\\Ashutosh Shukla\\\\Desktop\\\\tomato\\\\PlantVillage\\\\Potato___Early_blight\\\\00d8f10f-5038-4e0f-bb58-0b885ddc0cc5___RS_Early.B 8722.JPG\"\n",
    "\n",
    "im=convert_image_to_array(image_dir)\n",
    "np_image_li = np.array(im, dtype=np.float16) / 225.0\n",
    "npp_image = np.expand_dims(np_image_li, axis=0)"
   ]
  },
  {
   "cell_type": "code",
   "execution_count": 21,
   "metadata": {},
   "outputs": [
    {
     "name": "stdout",
     "output_type": "stream",
     "text": [
      "1/1 [==============================] - 0s 216ms/step\n",
      "[[3.2513007e-12 1.0886356e-09 9.9910706e-01 7.3759052e-06 2.3983993e-10\n",
      "  3.5114922e-09 1.2144702e-07 8.8488293e-04 3.4738375e-07 5.0433940e-08\n",
      "  3.8651377e-10 8.5447827e-10 3.4091410e-12 1.6290383e-09 5.7294187e-08]]\n"
     ]
    }
   ],
   "source": [
    "result=loaded_model.predict(npp_image)\n",
    "\n",
    "print(result)"
   ]
  },
  {
   "cell_type": "code",
   "execution_count": 22,
   "metadata": {},
   "outputs": [
    {
     "name": "stdout",
     "output_type": "stream",
     "text": [
      "probability:0.99910706\n",
      "Potato___Early_blight\n"
     ]
    }
   ],
   "source": [
    "itemindex = np.where(result==np.max(result))\n",
    "print(\"probability:\"+str(np.max(result))+\"\\n\"+label_binarizer.classes_[itemindex[1][0]])"
   ]
  },
  {
   "cell_type": "code",
   "execution_count": null,
   "metadata": {},
   "outputs": [],
   "source": []
  },
  {
   "cell_type": "code",
   "execution_count": null,
   "metadata": {},
   "outputs": [],
   "source": []
  },
  {
   "cell_type": "code",
   "execution_count": null,
   "metadata": {},
   "outputs": [],
   "source": []
  }
 ],
 "metadata": {
  "kernelspec": {
   "display_name": "Python 3 (ipykernel)",
   "language": "python",
   "name": "python3"
  },
  "language_info": {
   "codemirror_mode": {
    "name": "ipython",
    "version": 3
   },
   "file_extension": ".py",
   "mimetype": "text/x-python",
   "name": "python",
   "nbconvert_exporter": "python",
   "pygments_lexer": "ipython3",
   "version": "3.10.8"
  }
 },
 "nbformat": 4,
 "nbformat_minor": 2
}
